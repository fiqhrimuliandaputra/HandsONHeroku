{
 "metadata": {
  "language_info": {
   "codemirror_mode": {
    "name": "ipython",
    "version": 3
   },
   "file_extension": ".py",
   "mimetype": "text/x-python",
   "name": "python",
   "nbconvert_exporter": "python",
   "pygments_lexer": "ipython3",
   "version": "3.8.5-final"
  },
  "orig_nbformat": 2,
  "kernelspec": {
   "name": "python3",
   "display_name": "Python 3",
   "language": "python"
  }
 },
 "nbformat": 4,
 "nbformat_minor": 2,
 "cells": [
  {
   "source": [
    "# USED CAR PRICE PREDICTION\n",
    "\n",
    "This is a given dataset of a used car price on India, you can find it available on kaggle here : https://www.kaggle.com/avikasliwal/used-cars-price-prediction. \n",
    "\n",
    "The main objective is to find insights from this dataset and build a model which can predict car price accurately. \n",
    "\n",
    "### DATA DICTIONARY \n",
    "- Owner_Type              = car's owner Type (First, Second, Third, Fourth & Above)\n",
    "- Kilometers_Driven       = number of kilometers driven \n",
    "- Mileage                 = number of miles traveled or covered.\n",
    "- Seats                   = number of seats\n",
    "- Engine                  = car's engine propulsion \n",
    "- Fuel_Type               = car's fuel type (CNG, Diesel, Petrol, LPG) \n",
    "- Year_Gap                = number of year gap\n",
    "- Power                   = car's power \n",
    "- Transmission            = car's transmission type (Manual, Automatic)"
   ],
   "cell_type": "markdown",
   "metadata": {}
  },
  {
   "source": [
    "## IMPORT LIBRARIES"
   ],
   "cell_type": "markdown",
   "metadata": {}
  },
  {
   "cell_type": "code",
   "execution_count": 176,
   "metadata": {},
   "outputs": [],
   "source": [
    "# data wrangling\n",
    "import numpy as np\n",
    "import pandas as pd\n",
    "\n",
    "# modelling\n",
    "from sklearn.preprocessing import LabelEncoder\n",
    "from sklearn.model_selection import train_test_split\n",
    "from sklearn.ensemble import RandomForestRegressor\n",
    "from sklearn.tree import ExtraTreeRegressor\n",
    "from sklearn import metrics\n",
    "import pickle"
   ]
  },
  {
   "source": [
    "## OVERVIEW"
   ],
   "cell_type": "markdown",
   "metadata": {}
  },
  {
   "cell_type": "code",
   "execution_count": 177,
   "metadata": {},
   "outputs": [],
   "source": [
    "# load data\n",
    "df = pd.read_csv('cars_cleaned.csv')"
   ]
  },
  {
   "cell_type": "code",
   "execution_count": 178,
   "metadata": {},
   "outputs": [
    {
     "output_type": "execute_result",
     "data": {
      "text/plain": [
       "      Name    Location  Year  Kilometers_Driven Fuel_Type Transmission  \\\n",
       "0   Maruti      Mumbai  2010              72000       CNG       Manual   \n",
       "1  Hyundai        Pune  2015              41000    Diesel       Manual   \n",
       "2    Honda     Chennai  2011              46000    Petrol       Manual   \n",
       "3   Maruti     Chennai  2012              87000    Diesel       Manual   \n",
       "4     Audi  Coimbatore  2013              40670    Diesel    Automatic   \n",
       "\n",
       "  Owner_Type  Mileage  Engine   Power  Seats  Price  \n",
       "0      First    26.60     998   58.16      5   1.75  \n",
       "1      First    19.67    1582  126.20      5  12.50  \n",
       "2      First    18.20    1199   88.70      5   4.50  \n",
       "3      First    20.77    1248   88.76      7   6.00  \n",
       "4     Second    15.20    1968  140.80      5  17.74  "
      ],
      "text/html": "<div>\n<style scoped>\n    .dataframe tbody tr th:only-of-type {\n        vertical-align: middle;\n    }\n\n    .dataframe tbody tr th {\n        vertical-align: top;\n    }\n\n    .dataframe thead th {\n        text-align: right;\n    }\n</style>\n<table border=\"1\" class=\"dataframe\">\n  <thead>\n    <tr style=\"text-align: right;\">\n      <th></th>\n      <th>Name</th>\n      <th>Location</th>\n      <th>Year</th>\n      <th>Kilometers_Driven</th>\n      <th>Fuel_Type</th>\n      <th>Transmission</th>\n      <th>Owner_Type</th>\n      <th>Mileage</th>\n      <th>Engine</th>\n      <th>Power</th>\n      <th>Seats</th>\n      <th>Price</th>\n    </tr>\n  </thead>\n  <tbody>\n    <tr>\n      <th>0</th>\n      <td>Maruti</td>\n      <td>Mumbai</td>\n      <td>2010</td>\n      <td>72000</td>\n      <td>CNG</td>\n      <td>Manual</td>\n      <td>First</td>\n      <td>26.60</td>\n      <td>998</td>\n      <td>58.16</td>\n      <td>5</td>\n      <td>1.75</td>\n    </tr>\n    <tr>\n      <th>1</th>\n      <td>Hyundai</td>\n      <td>Pune</td>\n      <td>2015</td>\n      <td>41000</td>\n      <td>Diesel</td>\n      <td>Manual</td>\n      <td>First</td>\n      <td>19.67</td>\n      <td>1582</td>\n      <td>126.20</td>\n      <td>5</td>\n      <td>12.50</td>\n    </tr>\n    <tr>\n      <th>2</th>\n      <td>Honda</td>\n      <td>Chennai</td>\n      <td>2011</td>\n      <td>46000</td>\n      <td>Petrol</td>\n      <td>Manual</td>\n      <td>First</td>\n      <td>18.20</td>\n      <td>1199</td>\n      <td>88.70</td>\n      <td>5</td>\n      <td>4.50</td>\n    </tr>\n    <tr>\n      <th>3</th>\n      <td>Maruti</td>\n      <td>Chennai</td>\n      <td>2012</td>\n      <td>87000</td>\n      <td>Diesel</td>\n      <td>Manual</td>\n      <td>First</td>\n      <td>20.77</td>\n      <td>1248</td>\n      <td>88.76</td>\n      <td>7</td>\n      <td>6.00</td>\n    </tr>\n    <tr>\n      <th>4</th>\n      <td>Audi</td>\n      <td>Coimbatore</td>\n      <td>2013</td>\n      <td>40670</td>\n      <td>Diesel</td>\n      <td>Automatic</td>\n      <td>Second</td>\n      <td>15.20</td>\n      <td>1968</td>\n      <td>140.80</td>\n      <td>5</td>\n      <td>17.74</td>\n    </tr>\n  </tbody>\n</table>\n</div>"
     },
     "metadata": {},
     "execution_count": 178
    }
   ],
   "source": [
    "# show top 5 data\n",
    "df.head()"
   ]
  },
  {
   "cell_type": "code",
   "execution_count": 179,
   "metadata": {},
   "outputs": [
    {
     "output_type": "stream",
     "name": "stdout",
     "text": [
      "<class 'pandas.core.frame.DataFrame'>\nRangeIndex: 5872 entries, 0 to 5871\nData columns (total 12 columns):\n #   Column             Non-Null Count  Dtype  \n---  ------             --------------  -----  \n 0   Name               5872 non-null   object \n 1   Location           5872 non-null   object \n 2   Year               5872 non-null   int64  \n 3   Kilometers_Driven  5872 non-null   int64  \n 4   Fuel_Type          5872 non-null   object \n 5   Transmission       5872 non-null   object \n 6   Owner_Type         5872 non-null   object \n 7   Mileage            5872 non-null   float64\n 8   Engine             5872 non-null   int64  \n 9   Power              5872 non-null   float64\n 10  Seats              5872 non-null   int64  \n 11  Price              5872 non-null   float64\ndtypes: float64(3), int64(4), object(5)\nmemory usage: 550.6+ KB\n"
     ]
    }
   ],
   "source": [
    "# show info\n",
    "df.info()"
   ]
  },
  {
   "source": [
    "## DATA EXPLORATION"
   ],
   "cell_type": "markdown",
   "metadata": {}
  },
  {
   "cell_type": "code",
   "execution_count": 180,
   "metadata": {},
   "outputs": [
    {
     "output_type": "execute_result",
     "data": {
      "text/plain": [
       "                    count          mean           std      min         25%  \\\n",
       "Year               5872.0   2013.477691      3.164568  1998.00   2012.0000   \n",
       "Kilometers_Driven  5872.0  58316.999149  92169.410006   171.00  33422.5000   \n",
       "Mileage            5872.0     18.277839      4.365657     0.00     15.2600   \n",
       "Engine             5872.0   1625.745572    601.641783   624.00   1198.0000   \n",
       "Power              5872.0    113.276894     53.881892    34.20     75.0000   \n",
       "Seats              5872.0      5.283719      0.805081     2.00      5.0000   \n",
       "Price              5872.0      9.603919     11.249453     0.44      3.5175   \n",
       "\n",
       "                        50%       75%         max  \n",
       "Year                2014.00   2016.00     2019.00  \n",
       "Kilometers_Driven  52609.00  72402.75  6500000.00  \n",
       "Mileage               18.20     21.10       33.54  \n",
       "Engine              1495.50   1991.00     5998.00  \n",
       "Power                 97.70    138.10      560.00  \n",
       "Seats                  5.00      5.00       10.00  \n",
       "Price                  5.75     10.00      160.00  "
      ],
      "text/html": "<div>\n<style scoped>\n    .dataframe tbody tr th:only-of-type {\n        vertical-align: middle;\n    }\n\n    .dataframe tbody tr th {\n        vertical-align: top;\n    }\n\n    .dataframe thead th {\n        text-align: right;\n    }\n</style>\n<table border=\"1\" class=\"dataframe\">\n  <thead>\n    <tr style=\"text-align: right;\">\n      <th></th>\n      <th>count</th>\n      <th>mean</th>\n      <th>std</th>\n      <th>min</th>\n      <th>25%</th>\n      <th>50%</th>\n      <th>75%</th>\n      <th>max</th>\n    </tr>\n  </thead>\n  <tbody>\n    <tr>\n      <th>Year</th>\n      <td>5872.0</td>\n      <td>2013.477691</td>\n      <td>3.164568</td>\n      <td>1998.00</td>\n      <td>2012.0000</td>\n      <td>2014.00</td>\n      <td>2016.00</td>\n      <td>2019.00</td>\n    </tr>\n    <tr>\n      <th>Kilometers_Driven</th>\n      <td>5872.0</td>\n      <td>58316.999149</td>\n      <td>92169.410006</td>\n      <td>171.00</td>\n      <td>33422.5000</td>\n      <td>52609.00</td>\n      <td>72402.75</td>\n      <td>6500000.00</td>\n    </tr>\n    <tr>\n      <th>Mileage</th>\n      <td>5872.0</td>\n      <td>18.277839</td>\n      <td>4.365657</td>\n      <td>0.00</td>\n      <td>15.2600</td>\n      <td>18.20</td>\n      <td>21.10</td>\n      <td>33.54</td>\n    </tr>\n    <tr>\n      <th>Engine</th>\n      <td>5872.0</td>\n      <td>1625.745572</td>\n      <td>601.641783</td>\n      <td>624.00</td>\n      <td>1198.0000</td>\n      <td>1495.50</td>\n      <td>1991.00</td>\n      <td>5998.00</td>\n    </tr>\n    <tr>\n      <th>Power</th>\n      <td>5872.0</td>\n      <td>113.276894</td>\n      <td>53.881892</td>\n      <td>34.20</td>\n      <td>75.0000</td>\n      <td>97.70</td>\n      <td>138.10</td>\n      <td>560.00</td>\n    </tr>\n    <tr>\n      <th>Seats</th>\n      <td>5872.0</td>\n      <td>5.283719</td>\n      <td>0.805081</td>\n      <td>2.00</td>\n      <td>5.0000</td>\n      <td>5.00</td>\n      <td>5.00</td>\n      <td>10.00</td>\n    </tr>\n    <tr>\n      <th>Price</th>\n      <td>5872.0</td>\n      <td>9.603919</td>\n      <td>11.249453</td>\n      <td>0.44</td>\n      <td>3.5175</td>\n      <td>5.75</td>\n      <td>10.00</td>\n      <td>160.00</td>\n    </tr>\n  </tbody>\n</table>\n</div>"
     },
     "metadata": {},
     "execution_count": 180
    }
   ],
   "source": [
    "df.describe().T"
   ]
  },
  {
   "cell_type": "code",
   "execution_count": 181,
   "metadata": {},
   "outputs": [
    {
     "output_type": "execute_result",
     "data": {
      "text/plain": [
       "             count unique     top  freq\n",
       "Name          5872     30  Maruti  1175\n",
       "Location      5872     11  Mumbai   775\n",
       "Fuel_Type     5872      4  Diesel  3152\n",
       "Transmission  5872      2  Manual  4170\n",
       "Owner_Type    5872      4   First  4839"
      ],
      "text/html": "<div>\n<style scoped>\n    .dataframe tbody tr th:only-of-type {\n        vertical-align: middle;\n    }\n\n    .dataframe tbody tr th {\n        vertical-align: top;\n    }\n\n    .dataframe thead th {\n        text-align: right;\n    }\n</style>\n<table border=\"1\" class=\"dataframe\">\n  <thead>\n    <tr style=\"text-align: right;\">\n      <th></th>\n      <th>count</th>\n      <th>unique</th>\n      <th>top</th>\n      <th>freq</th>\n    </tr>\n  </thead>\n  <tbody>\n    <tr>\n      <th>Name</th>\n      <td>5872</td>\n      <td>30</td>\n      <td>Maruti</td>\n      <td>1175</td>\n    </tr>\n    <tr>\n      <th>Location</th>\n      <td>5872</td>\n      <td>11</td>\n      <td>Mumbai</td>\n      <td>775</td>\n    </tr>\n    <tr>\n      <th>Fuel_Type</th>\n      <td>5872</td>\n      <td>4</td>\n      <td>Diesel</td>\n      <td>3152</td>\n    </tr>\n    <tr>\n      <th>Transmission</th>\n      <td>5872</td>\n      <td>2</td>\n      <td>Manual</td>\n      <td>4170</td>\n    </tr>\n    <tr>\n      <th>Owner_Type</th>\n      <td>5872</td>\n      <td>4</td>\n      <td>First</td>\n      <td>4839</td>\n    </tr>\n  </tbody>\n</table>\n</div>"
     },
     "metadata": {},
     "execution_count": 181
    }
   ],
   "source": [
    "df.describe(include=np.object).T"
   ]
  },
  {
   "cell_type": "code",
   "execution_count": 182,
   "metadata": {},
   "outputs": [
    {
     "output_type": "execute_result",
     "data": {
      "text/plain": [
       "array(['Mumbai', 'Pune', 'Chennai', 'Coimbatore', 'Hyderabad', 'Jaipur',\n",
       "       'Kochi', 'Kolkata', 'Delhi', 'Bangalore', 'Ahmedabad'],\n",
       "      dtype=object)"
      ]
     },
     "metadata": {},
     "execution_count": 182
    }
   ],
   "source": [
    "df.Location.unique()"
   ]
  },
  {
   "cell_type": "code",
   "execution_count": 183,
   "metadata": {},
   "outputs": [
    {
     "output_type": "execute_result",
     "data": {
      "text/plain": [
       "array(['Maruti', 'Hyundai', 'Honda', 'Audi', 'Nissan', 'Toyota',\n",
       "       'Volkswagen', 'Tata', 'Land', 'Mitsubishi', 'Renault',\n",
       "       'Mercedes-Benz', 'BMW', 'Mahindra', 'Ford', 'Porsche', 'Datsun',\n",
       "       'Jaguar', 'Volvo', 'Chevrolet', 'Skoda', 'Mini', 'Fiat', 'Jeep',\n",
       "       'Ambassador', 'Isuzu', 'ISUZU', 'Force', 'Bentley', 'Lamborghini'],\n",
       "      dtype=object)"
      ]
     },
     "metadata": {},
     "execution_count": 183
    }
   ],
   "source": [
    "df.Name.unique()"
   ]
  },
  {
   "source": [
    "It would seems we'll drop the 'Name' and 'Location' since it's having too many unique value to encode. We'll also drop 'Year' since it's redundant, but before that we need to know the year gap by subracting the current year (assumption is 2020) and the values in the 'Year' feature."
   ],
   "cell_type": "markdown",
   "metadata": {}
  },
  {
   "cell_type": "code",
   "execution_count": 184,
   "metadata": {},
   "outputs": [
    {
     "output_type": "execute_result",
     "data": {
      "text/plain": [
       "Diesel    3152\n",
       "Petrol    2655\n",
       "CNG         55\n",
       "LPG         10\n",
       "Name: Fuel_Type, dtype: int64"
      ]
     },
     "metadata": {},
     "execution_count": 184
    }
   ],
   "source": [
    "df.Fuel_Type.value_counts()"
   ]
  },
  {
   "cell_type": "code",
   "execution_count": 185,
   "metadata": {},
   "outputs": [
    {
     "output_type": "execute_result",
     "data": {
      "text/plain": [
       "First             4839\n",
       "Second             925\n",
       "Third              101\n",
       "Fourth & Above       7\n",
       "Name: Owner_Type, dtype: int64"
      ]
     },
     "metadata": {},
     "execution_count": 185
    }
   ],
   "source": [
    "df.Owner_Type.value_counts()"
   ]
  },
  {
   "cell_type": "code",
   "execution_count": 186,
   "metadata": {},
   "outputs": [
    {
     "output_type": "execute_result",
     "data": {
      "text/plain": [
       "Manual       4170\n",
       "Automatic    1702\n",
       "Name: Transmission, dtype: int64"
      ]
     },
     "metadata": {},
     "execution_count": 186
    }
   ],
   "source": [
    "df.Transmission.value_counts()"
   ]
  },
  {
   "cell_type": "code",
   "execution_count": 187,
   "metadata": {},
   "outputs": [],
   "source": [
    "# dropping name and location\n",
    "df = df.iloc[:, 2:]"
   ]
  },
  {
   "cell_type": "code",
   "execution_count": 188,
   "metadata": {},
   "outputs": [],
   "source": [
    "# creating year gap feature\n",
    "df['Year_Gap'] = 2020 - df['Year']\n",
    "\n",
    "# dropping year feature\n",
    "df = df.drop(columns=['Year'])"
   ]
  },
  {
   "cell_type": "code",
   "execution_count": 189,
   "metadata": {},
   "outputs": [
    {
     "output_type": "execute_result",
     "data": {
      "text/plain": [
       "   Kilometers_Driven Fuel_Type Transmission Owner_Type  Mileage  Engine  \\\n",
       "0              72000       CNG       Manual      First    26.60     998   \n",
       "1              41000    Diesel       Manual      First    19.67    1582   \n",
       "2              46000    Petrol       Manual      First    18.20    1199   \n",
       "3              87000    Diesel       Manual      First    20.77    1248   \n",
       "4              40670    Diesel    Automatic     Second    15.20    1968   \n",
       "\n",
       "    Power  Seats  Price  Year_Gap  \n",
       "0   58.16      5   1.75        10  \n",
       "1  126.20      5  12.50         5  \n",
       "2   88.70      5   4.50         9  \n",
       "3   88.76      7   6.00         8  \n",
       "4  140.80      5  17.74         7  "
      ],
      "text/html": "<div>\n<style scoped>\n    .dataframe tbody tr th:only-of-type {\n        vertical-align: middle;\n    }\n\n    .dataframe tbody tr th {\n        vertical-align: top;\n    }\n\n    .dataframe thead th {\n        text-align: right;\n    }\n</style>\n<table border=\"1\" class=\"dataframe\">\n  <thead>\n    <tr style=\"text-align: right;\">\n      <th></th>\n      <th>Kilometers_Driven</th>\n      <th>Fuel_Type</th>\n      <th>Transmission</th>\n      <th>Owner_Type</th>\n      <th>Mileage</th>\n      <th>Engine</th>\n      <th>Power</th>\n      <th>Seats</th>\n      <th>Price</th>\n      <th>Year_Gap</th>\n    </tr>\n  </thead>\n  <tbody>\n    <tr>\n      <th>0</th>\n      <td>72000</td>\n      <td>CNG</td>\n      <td>Manual</td>\n      <td>First</td>\n      <td>26.60</td>\n      <td>998</td>\n      <td>58.16</td>\n      <td>5</td>\n      <td>1.75</td>\n      <td>10</td>\n    </tr>\n    <tr>\n      <th>1</th>\n      <td>41000</td>\n      <td>Diesel</td>\n      <td>Manual</td>\n      <td>First</td>\n      <td>19.67</td>\n      <td>1582</td>\n      <td>126.20</td>\n      <td>5</td>\n      <td>12.50</td>\n      <td>5</td>\n    </tr>\n    <tr>\n      <th>2</th>\n      <td>46000</td>\n      <td>Petrol</td>\n      <td>Manual</td>\n      <td>First</td>\n      <td>18.20</td>\n      <td>1199</td>\n      <td>88.70</td>\n      <td>5</td>\n      <td>4.50</td>\n      <td>9</td>\n    </tr>\n    <tr>\n      <th>3</th>\n      <td>87000</td>\n      <td>Diesel</td>\n      <td>Manual</td>\n      <td>First</td>\n      <td>20.77</td>\n      <td>1248</td>\n      <td>88.76</td>\n      <td>7</td>\n      <td>6.00</td>\n      <td>8</td>\n    </tr>\n    <tr>\n      <th>4</th>\n      <td>40670</td>\n      <td>Diesel</td>\n      <td>Automatic</td>\n      <td>Second</td>\n      <td>15.20</td>\n      <td>1968</td>\n      <td>140.80</td>\n      <td>5</td>\n      <td>17.74</td>\n      <td>7</td>\n    </tr>\n  </tbody>\n</table>\n</div>"
     },
     "metadata": {},
     "execution_count": 189
    }
   ],
   "source": [
    "# show the processed dataframe\n",
    "df.head()"
   ]
  },
  {
   "source": [
    "Now, we encode the data, and try to encode based on these structures : \n",
    "\n",
    "- Owner_Type              = 0 : Fourth & Above, 1 : Third, 2 : Second, 3 : First\n",
    "- Fuel_Type               = 0 : CNG, 1 : Diesel, 2 : LPG , 3 : Petrol\n",
    "- Transmission            = 0 : Manual, 1 : Automatic"
   ],
   "cell_type": "markdown",
   "metadata": {}
  },
  {
   "cell_type": "code",
   "execution_count": 190,
   "metadata": {},
   "outputs": [],
   "source": [
    "# encode the categorical data\n",
    "df['Owner_Type']   = df['Owner_Type'].replace({'Fourth & Above' : 0, 'Third' : 1, 'Second' : 2, 'First' : 3})\n",
    "df['Fuel_Type']    = df['Fuel_Type'].replace({'CNG' : 0, 'Diesel' : 1, 'LPG' : 2, 'Petrol' : 3})\n",
    "df['Transmission'] = df['Transmission'].replace({'Manual' : 0, 'Automatic' : 1})"
   ]
  },
  {
   "cell_type": "code",
   "execution_count": 191,
   "metadata": {},
   "outputs": [
    {
     "output_type": "execute_result",
     "data": {
      "text/plain": [
       "   Kilometers_Driven  Fuel_Type  Transmission  Owner_Type  Mileage  Engine  \\\n",
       "0              72000          0             0           3    26.60     998   \n",
       "1              41000          1             0           3    19.67    1582   \n",
       "2              46000          3             0           3    18.20    1199   \n",
       "3              87000          1             0           3    20.77    1248   \n",
       "4              40670          1             1           2    15.20    1968   \n",
       "\n",
       "    Power  Seats  Price  Year_Gap  \n",
       "0   58.16      5   1.75        10  \n",
       "1  126.20      5  12.50         5  \n",
       "2   88.70      5   4.50         9  \n",
       "3   88.76      7   6.00         8  \n",
       "4  140.80      5  17.74         7  "
      ],
      "text/html": "<div>\n<style scoped>\n    .dataframe tbody tr th:only-of-type {\n        vertical-align: middle;\n    }\n\n    .dataframe tbody tr th {\n        vertical-align: top;\n    }\n\n    .dataframe thead th {\n        text-align: right;\n    }\n</style>\n<table border=\"1\" class=\"dataframe\">\n  <thead>\n    <tr style=\"text-align: right;\">\n      <th></th>\n      <th>Kilometers_Driven</th>\n      <th>Fuel_Type</th>\n      <th>Transmission</th>\n      <th>Owner_Type</th>\n      <th>Mileage</th>\n      <th>Engine</th>\n      <th>Power</th>\n      <th>Seats</th>\n      <th>Price</th>\n      <th>Year_Gap</th>\n    </tr>\n  </thead>\n  <tbody>\n    <tr>\n      <th>0</th>\n      <td>72000</td>\n      <td>0</td>\n      <td>0</td>\n      <td>3</td>\n      <td>26.60</td>\n      <td>998</td>\n      <td>58.16</td>\n      <td>5</td>\n      <td>1.75</td>\n      <td>10</td>\n    </tr>\n    <tr>\n      <th>1</th>\n      <td>41000</td>\n      <td>1</td>\n      <td>0</td>\n      <td>3</td>\n      <td>19.67</td>\n      <td>1582</td>\n      <td>126.20</td>\n      <td>5</td>\n      <td>12.50</td>\n      <td>5</td>\n    </tr>\n    <tr>\n      <th>2</th>\n      <td>46000</td>\n      <td>3</td>\n      <td>0</td>\n      <td>3</td>\n      <td>18.20</td>\n      <td>1199</td>\n      <td>88.70</td>\n      <td>5</td>\n      <td>4.50</td>\n      <td>9</td>\n    </tr>\n    <tr>\n      <th>3</th>\n      <td>87000</td>\n      <td>1</td>\n      <td>0</td>\n      <td>3</td>\n      <td>20.77</td>\n      <td>1248</td>\n      <td>88.76</td>\n      <td>7</td>\n      <td>6.00</td>\n      <td>8</td>\n    </tr>\n    <tr>\n      <th>4</th>\n      <td>40670</td>\n      <td>1</td>\n      <td>1</td>\n      <td>2</td>\n      <td>15.20</td>\n      <td>1968</td>\n      <td>140.80</td>\n      <td>5</td>\n      <td>17.74</td>\n      <td>7</td>\n    </tr>\n  </tbody>\n</table>\n</div>"
     },
     "metadata": {},
     "execution_count": 191
    }
   ],
   "source": [
    "# show top 5 data after encoding\n",
    "df.head()"
   ]
  },
  {
   "source": [
    "## FEATURE ENGINEERING WITH EXTRA TREE REGRESSOR"
   ],
   "cell_type": "markdown",
   "metadata": {}
  },
  {
   "cell_type": "code",
   "execution_count": 192,
   "metadata": {},
   "outputs": [],
   "source": [
    "# split target feature\n",
    "X = df.drop(columns=['Price'])\n",
    "y = df.Price"
   ]
  },
  {
   "cell_type": "code",
   "execution_count": 193,
   "metadata": {},
   "outputs": [
    {
     "output_type": "execute_result",
     "data": {
      "text/plain": [
       "(      Kilometers_Driven  Fuel_Type  Transmission  Owner_Type  Mileage  Engine  \\\n",
       " 0                 72000          0             0           3    26.60     998   \n",
       " 1                 41000          1             0           3    19.67    1582   \n",
       " 2                 46000          3             0           3    18.20    1199   \n",
       " 3                 87000          1             0           3    20.77    1248   \n",
       " 4                 40670          1             1           2    15.20    1968   \n",
       " ...                 ...        ...           ...         ...      ...     ...   \n",
       " 5867              27365          1             0           3    28.40    1248   \n",
       " 5868             100000          1             0           3    24.40    1120   \n",
       " 5869              55000          1             0           2    14.00    2498   \n",
       " 5870              46000          3             0           3    18.90     998   \n",
       " 5871              47000          1             0           3    25.44     936   \n",
       " \n",
       "        Power  Seats  Year_Gap  \n",
       " 0      58.16      5        10  \n",
       " 1     126.20      5         5  \n",
       " 2      88.70      5         9  \n",
       " 3      88.76      7         8  \n",
       " 4     140.80      5         7  \n",
       " ...      ...    ...       ...  \n",
       " 5867   74.00      5         6  \n",
       " 5868   71.00      5         5  \n",
       " 5869  112.00      8         8  \n",
       " 5870   67.10      5         7  \n",
       " 5871   57.60      5         9  \n",
       " \n",
       " [5872 rows x 9 columns],\n",
       " 0        1.75\n",
       " 1       12.50\n",
       " 2        4.50\n",
       " 3        6.00\n",
       " 4       17.74\n",
       "         ...  \n",
       " 5867     4.75\n",
       " 5868     4.00\n",
       " 5869     2.90\n",
       " 5870     2.65\n",
       " 5871     2.50\n",
       " Name: Price, Length: 5872, dtype: float64)"
      ]
     },
     "metadata": {},
     "execution_count": 193
    }
   ],
   "source": [
    "# show splitted data\n",
    "X, y"
   ]
  },
  {
   "cell_type": "code",
   "execution_count": 194,
   "metadata": {},
   "outputs": [
    {
     "output_type": "execute_result",
     "data": {
      "text/plain": [
       "ExtraTreeRegressor(random_state=42)"
      ]
     },
     "metadata": {},
     "execution_count": 194
    }
   ],
   "source": [
    "# fit the extra-tree regressor model\n",
    "feat = ExtraTreeRegressor(random_state=42)\n",
    "feat.fit(X, y)"
   ]
  },
  {
   "cell_type": "code",
   "execution_count": 195,
   "metadata": {},
   "outputs": [
    {
     "output_type": "execute_result",
     "data": {
      "text/plain": [
       "Transmission         0.342983\n",
       "Power                0.241244\n",
       "Year_Gap             0.173409\n",
       "Fuel_Type            0.067054\n",
       "Engine               0.062262\n",
       "Kilometers_Driven    0.044988\n",
       "Mileage              0.030805\n",
       "Seats                0.024968\n",
       "Owner_Type           0.012287\n",
       "dtype: float64"
      ]
     },
     "metadata": {},
     "execution_count": 195
    }
   ],
   "source": [
    "# show importances\n",
    "pd.Series(feat.feature_importances_, index=X.columns).sort_values(ascending=False)"
   ]
  },
  {
   "cell_type": "code",
   "execution_count": 196,
   "metadata": {},
   "outputs": [],
   "source": [
    "# locate only the important features\n",
    "df = df[['Transmission', 'Power', 'Year_Gap', 'Fuel_Type', 'Price']]"
   ]
  },
  {
   "source": [
    "## MODELLING"
   ],
   "cell_type": "markdown",
   "metadata": {}
  },
  {
   "cell_type": "code",
   "execution_count": 197,
   "metadata": {},
   "outputs": [],
   "source": [
    "# split target feature\n",
    "X = df.drop(columns=['Price'])\n",
    "y = df.Price"
   ]
  },
  {
   "cell_type": "code",
   "execution_count": 198,
   "metadata": {},
   "outputs": [],
   "source": [
    "# train test split, test size 20%\n",
    "X_train, X_test, y_train, y_test = train_test_split(X, y, test_size=0.2, random_state=42)"
   ]
  },
  {
   "cell_type": "code",
   "execution_count": 199,
   "metadata": {},
   "outputs": [
    {
     "output_type": "execute_result",
     "data": {
      "text/plain": [
       "(      Transmission   Power  Year_Gap  Fuel_Type\n",
       " 2029             1  126.32         6          1\n",
       " 5589             1  272.00        11          3\n",
       " 3129             0   85.80         5          3\n",
       " 210              0   68.05         8          3\n",
       " 3731             0   62.10        10          3\n",
       " ...            ...     ...       ...        ...\n",
       " 3772             0   67.04         5          3\n",
       " 5191             0   73.97         5          1\n",
       " 5226             0   73.97         3          1\n",
       " 5390             0   89.84         3          1\n",
       " 860              1  184.00         9          3\n",
       " \n",
       " [4697 rows x 4 columns],\n",
       " 2029     5.45\n",
       " 5589    10.24\n",
       " 3129     4.15\n",
       " 210      2.90\n",
       " 3731     1.50\n",
       "         ...  \n",
       " 3772     4.30\n",
       " 5191     4.25\n",
       " 5226     4.20\n",
       " 5390     8.75\n",
       " 860      9.75\n",
       " Name: Price, Length: 4697, dtype: float64)"
      ]
     },
     "metadata": {},
     "execution_count": 199
    }
   ],
   "source": [
    "# show train data\n",
    "X_train, y_train"
   ]
  },
  {
   "cell_type": "code",
   "execution_count": 200,
   "metadata": {},
   "outputs": [
    {
     "output_type": "execute_result",
     "data": {
      "text/plain": [
       "RandomForestRegressor()"
      ]
     },
     "metadata": {},
     "execution_count": 200
    }
   ],
   "source": [
    "# fit the random forest regressor model\n",
    "model = RandomForestRegressor()\n",
    "model.fit(X_train, y_train)"
   ]
  },
  {
   "cell_type": "code",
   "execution_count": 201,
   "metadata": {},
   "outputs": [],
   "source": [
    "# set the y predict\n",
    "y_pred = model.predict(X_test)"
   ]
  },
  {
   "cell_type": "code",
   "execution_count": 202,
   "metadata": {},
   "outputs": [
    {
     "output_type": "execute_result",
     "data": {
      "text/plain": [
       "0.9566966572917802"
      ]
     },
     "metadata": {},
     "execution_count": 202
    }
   ],
   "source": [
    "# check train score\n",
    "model.score(X_train,y_train)"
   ]
  },
  {
   "cell_type": "code",
   "execution_count": 203,
   "metadata": {},
   "outputs": [
    {
     "output_type": "execute_result",
     "data": {
      "text/plain": [
       "0.8527712611102901"
      ]
     },
     "metadata": {},
     "execution_count": 203
    }
   ],
   "source": [
    "# check the r2 score\n",
    "metrics.r2_score(y_test, y_pred)"
   ]
  },
  {
   "source": [
    "Seems it's a little overfit, but no matter we'll dump this model with pickle."
   ],
   "cell_type": "markdown",
   "metadata": {}
  },
  {
   "cell_type": "code",
   "execution_count": 204,
   "metadata": {},
   "outputs": [],
   "source": [
    "# dump model \n",
    "filename = 'model.pkl'\n",
    "pickle.dump(model, open(filename, 'wb'))"
   ]
  },
  {
   "source": [
    "## MODEL TESTING"
   ],
   "cell_type": "markdown",
   "metadata": {}
  },
  {
   "source": [
    "To test the model, I'll try to load and test prediction on it."
   ],
   "cell_type": "markdown",
   "metadata": {}
  },
  {
   "cell_type": "code",
   "execution_count": 205,
   "metadata": {},
   "outputs": [],
   "source": [
    "# load model\n",
    "model = pickle.load(open('model.pkl', 'rb'))"
   ]
  },
  {
   "cell_type": "code",
   "execution_count": 206,
   "metadata": {},
   "outputs": [
    {
     "output_type": "execute_result",
     "data": {
      "text/plain": [
       "1.8194576388888892"
      ]
     },
     "metadata": {},
     "execution_count": 206
    }
   ],
   "source": [
    "# test prediction #1\n",
    "predict = model.predict([[1, 58.16, 10, 0]])\n",
    "predict[0]"
   ]
  },
  {
   "cell_type": "code",
   "execution_count": 207,
   "metadata": {},
   "outputs": [
    {
     "output_type": "execute_result",
     "data": {
      "text/plain": [
       "11.205821666666669"
      ]
     },
     "metadata": {},
     "execution_count": 207
    }
   ],
   "source": [
    "# test prediction #2\n",
    "predict = model.predict([[1, 272.00, 11, 3]])\n",
    "predict[0]"
   ]
  }
 ]
}