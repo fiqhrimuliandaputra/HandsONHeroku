{
 "metadata": {
  "language_info": {
   "codemirror_mode": {
    "name": "ipython",
    "version": 3
   },
   "file_extension": ".py",
   "mimetype": "text/x-python",
   "name": "python",
   "nbconvert_exporter": "python",
   "pygments_lexer": "ipython3",
   "version": "3.8.5-final"
  },
  "orig_nbformat": 2,
  "kernelspec": {
   "name": "python3",
   "display_name": "Python 3",
   "language": "python"
  }
 },
 "nbformat": 4,
 "nbformat_minor": 2,
 "cells": [
  {
   "source": [
    "# USED CAR PRICE PREDICTION\n",
    "\n",
    "This is a given dataset of a used car price on India, you can find it available on kaggle here : https://www.kaggle.com/avikasliwal/used-cars-price-prediction. \n",
    "\n",
    "The main objective is to find insights from this dataset and build a model which can predict car price accurately. \n",
    "\n",
    "### DATA DICTIONARY \n",
    "- Owner_Type              = car's owner Type (First, Second, Third, Fourth & Above)\n",
    "- Kilometers_Driven       = number of kilometers driven \n",
    "- Mileage                 = number of miles traveled or covered.\n",
    "- Seats                   = number of seats\n",
    "- Engine                  = car's engine propulsion \n",
    "- Fuel_Type               = car's fuel type (CNG, Diesel, Petrol, LPG) \n",
    "- Year_Gap                = number of year gap\n",
    "- Power                   = car's power \n",
    "- Transmission            = car's transmission type (Manual, Automatic)\n"
   ],
   "cell_type": "markdown",
   "metadata": {}
  },
  {
   "source": [
    "## IMPORT LIBRARIES"
   ],
   "cell_type": "markdown",
   "metadata": {}
  },
  {
   "cell_type": "code",
   "execution_count": 61,
   "metadata": {},
   "outputs": [],
   "source": [
    "# data wrangling\n",
    "import numpy as np\n",
    "import pandas as pd"
   ]
  },
  {
   "source": [
    "## OVERVIEW"
   ],
   "cell_type": "markdown",
   "metadata": {}
  },
  {
   "cell_type": "code",
   "execution_count": 62,
   "metadata": {},
   "outputs": [],
   "source": [
    "# load data\n",
    "df = pd.read_csv('cars.csv').drop(columns=['Unnamed: 0', 'New_Price'])"
   ]
  },
  {
   "cell_type": "code",
   "execution_count": 63,
   "metadata": {},
   "outputs": [
    {
     "output_type": "execute_result",
     "data": {
      "text/plain": [
       "                               Name    Location  Year  Kilometers_Driven  \\\n",
       "0            Maruti Wagon R LXI CNG      Mumbai  2010              72000   \n",
       "1  Hyundai Creta 1.6 CRDi SX Option        Pune  2015              41000   \n",
       "2                      Honda Jazz V     Chennai  2011              46000   \n",
       "3                 Maruti Ertiga VDI     Chennai  2012              87000   \n",
       "4   Audi A4 New 2.0 TDI Multitronic  Coimbatore  2013              40670   \n",
       "\n",
       "  Fuel_Type Transmission Owner_Type     Mileage   Engine      Power  Seats  \\\n",
       "0       CNG       Manual      First  26.6 km/kg   998 CC  58.16 bhp    5.0   \n",
       "1    Diesel       Manual      First  19.67 kmpl  1582 CC  126.2 bhp    5.0   \n",
       "2    Petrol       Manual      First   18.2 kmpl  1199 CC   88.7 bhp    5.0   \n",
       "3    Diesel       Manual      First  20.77 kmpl  1248 CC  88.76 bhp    7.0   \n",
       "4    Diesel    Automatic     Second   15.2 kmpl  1968 CC  140.8 bhp    5.0   \n",
       "\n",
       "   Price  \n",
       "0   1.75  \n",
       "1  12.50  \n",
       "2   4.50  \n",
       "3   6.00  \n",
       "4  17.74  "
      ],
      "text/html": "<div>\n<style scoped>\n    .dataframe tbody tr th:only-of-type {\n        vertical-align: middle;\n    }\n\n    .dataframe tbody tr th {\n        vertical-align: top;\n    }\n\n    .dataframe thead th {\n        text-align: right;\n    }\n</style>\n<table border=\"1\" class=\"dataframe\">\n  <thead>\n    <tr style=\"text-align: right;\">\n      <th></th>\n      <th>Name</th>\n      <th>Location</th>\n      <th>Year</th>\n      <th>Kilometers_Driven</th>\n      <th>Fuel_Type</th>\n      <th>Transmission</th>\n      <th>Owner_Type</th>\n      <th>Mileage</th>\n      <th>Engine</th>\n      <th>Power</th>\n      <th>Seats</th>\n      <th>Price</th>\n    </tr>\n  </thead>\n  <tbody>\n    <tr>\n      <th>0</th>\n      <td>Maruti Wagon R LXI CNG</td>\n      <td>Mumbai</td>\n      <td>2010</td>\n      <td>72000</td>\n      <td>CNG</td>\n      <td>Manual</td>\n      <td>First</td>\n      <td>26.6 km/kg</td>\n      <td>998 CC</td>\n      <td>58.16 bhp</td>\n      <td>5.0</td>\n      <td>1.75</td>\n    </tr>\n    <tr>\n      <th>1</th>\n      <td>Hyundai Creta 1.6 CRDi SX Option</td>\n      <td>Pune</td>\n      <td>2015</td>\n      <td>41000</td>\n      <td>Diesel</td>\n      <td>Manual</td>\n      <td>First</td>\n      <td>19.67 kmpl</td>\n      <td>1582 CC</td>\n      <td>126.2 bhp</td>\n      <td>5.0</td>\n      <td>12.50</td>\n    </tr>\n    <tr>\n      <th>2</th>\n      <td>Honda Jazz V</td>\n      <td>Chennai</td>\n      <td>2011</td>\n      <td>46000</td>\n      <td>Petrol</td>\n      <td>Manual</td>\n      <td>First</td>\n      <td>18.2 kmpl</td>\n      <td>1199 CC</td>\n      <td>88.7 bhp</td>\n      <td>5.0</td>\n      <td>4.50</td>\n    </tr>\n    <tr>\n      <th>3</th>\n      <td>Maruti Ertiga VDI</td>\n      <td>Chennai</td>\n      <td>2012</td>\n      <td>87000</td>\n      <td>Diesel</td>\n      <td>Manual</td>\n      <td>First</td>\n      <td>20.77 kmpl</td>\n      <td>1248 CC</td>\n      <td>88.76 bhp</td>\n      <td>7.0</td>\n      <td>6.00</td>\n    </tr>\n    <tr>\n      <th>4</th>\n      <td>Audi A4 New 2.0 TDI Multitronic</td>\n      <td>Coimbatore</td>\n      <td>2013</td>\n      <td>40670</td>\n      <td>Diesel</td>\n      <td>Automatic</td>\n      <td>Second</td>\n      <td>15.2 kmpl</td>\n      <td>1968 CC</td>\n      <td>140.8 bhp</td>\n      <td>5.0</td>\n      <td>17.74</td>\n    </tr>\n  </tbody>\n</table>\n</div>"
     },
     "metadata": {},
     "execution_count": 63
    }
   ],
   "source": [
    "# show top 5\n",
    "df.head()"
   ]
  },
  {
   "cell_type": "code",
   "execution_count": 64,
   "metadata": {},
   "outputs": [
    {
     "output_type": "stream",
     "name": "stdout",
     "text": [
      "<class 'pandas.core.frame.DataFrame'>\nRangeIndex: 6019 entries, 0 to 6018\nData columns (total 12 columns):\n #   Column             Non-Null Count  Dtype  \n---  ------             --------------  -----  \n 0   Name               6019 non-null   object \n 1   Location           6019 non-null   object \n 2   Year               6019 non-null   int64  \n 3   Kilometers_Driven  6019 non-null   int64  \n 4   Fuel_Type          6019 non-null   object \n 5   Transmission       6019 non-null   object \n 6   Owner_Type         6019 non-null   object \n 7   Mileage            6017 non-null   object \n 8   Engine             5983 non-null   object \n 9   Power              5983 non-null   object \n 10  Seats              5977 non-null   float64\n 11  Price              6019 non-null   float64\ndtypes: float64(2), int64(2), object(8)\nmemory usage: 564.4+ KB\n"
     ]
    }
   ],
   "source": [
    "# show info\n",
    "df.info()"
   ]
  },
  {
   "source": [
    "We can see that there are some null values, and improper datatype on some features (suppose to be float or int), such as : 'Mileage', 'Engine', 'Power' etc. We'll try to fix this by dropping the null values first (it's not a best practices though)."
   ],
   "cell_type": "markdown",
   "metadata": {}
  },
  {
   "cell_type": "code",
   "execution_count": 65,
   "metadata": {},
   "outputs": [
    {
     "output_type": "execute_result",
     "data": {
      "text/plain": [
       "Name                  0\n",
       "Location              0\n",
       "Year                  0\n",
       "Kilometers_Driven     0\n",
       "Fuel_Type             0\n",
       "Transmission          0\n",
       "Owner_Type            0\n",
       "Mileage               2\n",
       "Engine               36\n",
       "Power                36\n",
       "Seats                42\n",
       "Price                 0\n",
       "dtype: int64"
      ]
     },
     "metadata": {},
     "execution_count": 65
    }
   ],
   "source": [
    "# check null values\n",
    "df.isna().sum()"
   ]
  },
  {
   "cell_type": "code",
   "execution_count": 66,
   "metadata": {},
   "outputs": [],
   "source": [
    "# drop null values\n",
    "df.dropna(inplace=True)"
   ]
  },
  {
   "source": [
    "## PREPROCESSING"
   ],
   "cell_type": "markdown",
   "metadata": {}
  },
  {
   "source": [
    "Now we're going to fix the previously stated problem by splitting the unnecessary abbreviation such as 'kmpl', 'CC', etc. And then passing only the number values to the original dataframe."
   ],
   "cell_type": "markdown",
   "metadata": {}
  },
  {
   "cell_type": "code",
   "execution_count": 67,
   "metadata": {},
   "outputs": [],
   "source": [
    "# mileage features\n",
    "mil = []\n",
    "for i in df.Mileage:\n",
    "    num = 0\n",
    "    mil.append(i.split(' ')[num])\n",
    "    num = num+1\n",
    "    \n",
    "# pass to original dataframe\n",
    "df.Mileage = mil"
   ]
  },
  {
   "cell_type": "code",
   "execution_count": 68,
   "metadata": {},
   "outputs": [],
   "source": [
    "# engine feature\n",
    "eng = []\n",
    "for i in df.Engine:\n",
    "    num = 0\n",
    "    eng.append(i.split(' ')[num])\n",
    "    num = num+1\n",
    "\n",
    "# pass to original dataframe\n",
    "df.Engine = eng"
   ]
  },
  {
   "cell_type": "code",
   "execution_count": 69,
   "metadata": {},
   "outputs": [],
   "source": [
    "# power feature\n",
    "pwr = []\n",
    "for i in df.Power:\n",
    "    num = 0\n",
    "    pwr.append(i.split(' ')[num])\n",
    "    num = num+1\n",
    "\n",
    "# pass to original dataframe\n",
    "df.Power = pwr"
   ]
  },
  {
   "source": [
    "Seems there are some anomaly, there are some data on 'Power' features having a null bhp."
   ],
   "cell_type": "markdown",
   "metadata": {}
  },
  {
   "cell_type": "code",
   "execution_count": 70,
   "metadata": {},
   "outputs": [
    {
     "output_type": "execute_result",
     "data": {
      "text/plain": [
       "Name                 Ford Fiesta 1.4 SXi TDCi\n",
       "Location                               Jaipur\n",
       "Year                                     2008\n",
       "Kilometers_Driven                      111111\n",
       "Fuel_Type                              Diesel\n",
       "Transmission                           Manual\n",
       "Owner_Type                              First\n",
       "Mileage                                  17.8\n",
       "Engine                                   1399\n",
       "Power                                    null\n",
       "Seats                                       5\n",
       "Price                                       2\n",
       "Name: 76, dtype: object"
      ]
     },
     "metadata": {},
     "execution_count": 70
    }
   ],
   "source": [
    "# show anomaly\n",
    "df.loc[76]"
   ]
  },
  {
   "cell_type": "code",
   "execution_count": 71,
   "metadata": {},
   "outputs": [
    {
     "output_type": "execute_result",
     "data": {
      "text/plain": [
       "                                      Name   Location  Year  \\\n",
       "76                Ford Fiesta 1.4 SXi TDCi     Jaipur  2008   \n",
       "79                  Hyundai Santro Xing XL  Hyderabad  2005   \n",
       "89                  Hyundai Santro Xing XO  Hyderabad  2007   \n",
       "120   Hyundai Santro Xing XL eRLX Euro III     Mumbai  2005   \n",
       "143    Hyundai Santro Xing XO eRLX Euro II      Kochi  2008   \n",
       "...                                    ...        ...   ...   \n",
       "5861                Hyundai Santro Xing XO    Chennai  2007   \n",
       "5873   Hyundai Santro Xing XO eRLX Euro II       Pune  2006   \n",
       "5925           Skoda Laura Classic 1.8 TSI       Pune  2010   \n",
       "5943               Mahindra Jeep MM 540 DP    Chennai  2002   \n",
       "5985                       Toyota Etios GD      Delhi  2013   \n",
       "\n",
       "      Kilometers_Driven Fuel_Type Transmission Owner_Type Mileage Engine  \\\n",
       "76               111111    Diesel       Manual      First    17.8   1399   \n",
       "79                87591    Petrol       Manual      First     0.0   1086   \n",
       "89                73745    Petrol       Manual      First    17.0   1086   \n",
       "120              102000    Petrol       Manual     Second    17.0   1086   \n",
       "143               80759    Petrol       Manual      Third    17.0   1086   \n",
       "...                 ...       ...          ...        ...     ...    ...   \n",
       "5861              79000    Petrol       Manual      First    17.0   1086   \n",
       "5873              47200    Petrol       Manual     Second    17.0   1086   \n",
       "5925              85000    Petrol       Manual      First    17.5   1798   \n",
       "5943              75000    Diesel       Manual      First     0.0   2112   \n",
       "5985              70000    Diesel       Manual      First   23.59   1364   \n",
       "\n",
       "     Power  Seats  Price  \n",
       "76    null    5.0   2.00  \n",
       "79    null    5.0   1.30  \n",
       "89    null    5.0   2.10  \n",
       "120   null    5.0   0.85  \n",
       "143   null    5.0   1.67  \n",
       "...    ...    ...    ...  \n",
       "5861  null    5.0   1.85  \n",
       "5873  null    5.0   1.20  \n",
       "5925  null    5.0   2.85  \n",
       "5943  null    6.0   1.70  \n",
       "5985  null    5.0   3.88  \n",
       "\n",
       "[103 rows x 12 columns]"
      ],
      "text/html": "<div>\n<style scoped>\n    .dataframe tbody tr th:only-of-type {\n        vertical-align: middle;\n    }\n\n    .dataframe tbody tr th {\n        vertical-align: top;\n    }\n\n    .dataframe thead th {\n        text-align: right;\n    }\n</style>\n<table border=\"1\" class=\"dataframe\">\n  <thead>\n    <tr style=\"text-align: right;\">\n      <th></th>\n      <th>Name</th>\n      <th>Location</th>\n      <th>Year</th>\n      <th>Kilometers_Driven</th>\n      <th>Fuel_Type</th>\n      <th>Transmission</th>\n      <th>Owner_Type</th>\n      <th>Mileage</th>\n      <th>Engine</th>\n      <th>Power</th>\n      <th>Seats</th>\n      <th>Price</th>\n    </tr>\n  </thead>\n  <tbody>\n    <tr>\n      <th>76</th>\n      <td>Ford Fiesta 1.4 SXi TDCi</td>\n      <td>Jaipur</td>\n      <td>2008</td>\n      <td>111111</td>\n      <td>Diesel</td>\n      <td>Manual</td>\n      <td>First</td>\n      <td>17.8</td>\n      <td>1399</td>\n      <td>null</td>\n      <td>5.0</td>\n      <td>2.00</td>\n    </tr>\n    <tr>\n      <th>79</th>\n      <td>Hyundai Santro Xing XL</td>\n      <td>Hyderabad</td>\n      <td>2005</td>\n      <td>87591</td>\n      <td>Petrol</td>\n      <td>Manual</td>\n      <td>First</td>\n      <td>0.0</td>\n      <td>1086</td>\n      <td>null</td>\n      <td>5.0</td>\n      <td>1.30</td>\n    </tr>\n    <tr>\n      <th>89</th>\n      <td>Hyundai Santro Xing XO</td>\n      <td>Hyderabad</td>\n      <td>2007</td>\n      <td>73745</td>\n      <td>Petrol</td>\n      <td>Manual</td>\n      <td>First</td>\n      <td>17.0</td>\n      <td>1086</td>\n      <td>null</td>\n      <td>5.0</td>\n      <td>2.10</td>\n    </tr>\n    <tr>\n      <th>120</th>\n      <td>Hyundai Santro Xing XL eRLX Euro III</td>\n      <td>Mumbai</td>\n      <td>2005</td>\n      <td>102000</td>\n      <td>Petrol</td>\n      <td>Manual</td>\n      <td>Second</td>\n      <td>17.0</td>\n      <td>1086</td>\n      <td>null</td>\n      <td>5.0</td>\n      <td>0.85</td>\n    </tr>\n    <tr>\n      <th>143</th>\n      <td>Hyundai Santro Xing XO eRLX Euro II</td>\n      <td>Kochi</td>\n      <td>2008</td>\n      <td>80759</td>\n      <td>Petrol</td>\n      <td>Manual</td>\n      <td>Third</td>\n      <td>17.0</td>\n      <td>1086</td>\n      <td>null</td>\n      <td>5.0</td>\n      <td>1.67</td>\n    </tr>\n    <tr>\n      <th>...</th>\n      <td>...</td>\n      <td>...</td>\n      <td>...</td>\n      <td>...</td>\n      <td>...</td>\n      <td>...</td>\n      <td>...</td>\n      <td>...</td>\n      <td>...</td>\n      <td>...</td>\n      <td>...</td>\n      <td>...</td>\n    </tr>\n    <tr>\n      <th>5861</th>\n      <td>Hyundai Santro Xing XO</td>\n      <td>Chennai</td>\n      <td>2007</td>\n      <td>79000</td>\n      <td>Petrol</td>\n      <td>Manual</td>\n      <td>First</td>\n      <td>17.0</td>\n      <td>1086</td>\n      <td>null</td>\n      <td>5.0</td>\n      <td>1.85</td>\n    </tr>\n    <tr>\n      <th>5873</th>\n      <td>Hyundai Santro Xing XO eRLX Euro II</td>\n      <td>Pune</td>\n      <td>2006</td>\n      <td>47200</td>\n      <td>Petrol</td>\n      <td>Manual</td>\n      <td>Second</td>\n      <td>17.0</td>\n      <td>1086</td>\n      <td>null</td>\n      <td>5.0</td>\n      <td>1.20</td>\n    </tr>\n    <tr>\n      <th>5925</th>\n      <td>Skoda Laura Classic 1.8 TSI</td>\n      <td>Pune</td>\n      <td>2010</td>\n      <td>85000</td>\n      <td>Petrol</td>\n      <td>Manual</td>\n      <td>First</td>\n      <td>17.5</td>\n      <td>1798</td>\n      <td>null</td>\n      <td>5.0</td>\n      <td>2.85</td>\n    </tr>\n    <tr>\n      <th>5943</th>\n      <td>Mahindra Jeep MM 540 DP</td>\n      <td>Chennai</td>\n      <td>2002</td>\n      <td>75000</td>\n      <td>Diesel</td>\n      <td>Manual</td>\n      <td>First</td>\n      <td>0.0</td>\n      <td>2112</td>\n      <td>null</td>\n      <td>6.0</td>\n      <td>1.70</td>\n    </tr>\n    <tr>\n      <th>5985</th>\n      <td>Toyota Etios GD</td>\n      <td>Delhi</td>\n      <td>2013</td>\n      <td>70000</td>\n      <td>Diesel</td>\n      <td>Manual</td>\n      <td>First</td>\n      <td>23.59</td>\n      <td>1364</td>\n      <td>null</td>\n      <td>5.0</td>\n      <td>3.88</td>\n    </tr>\n  </tbody>\n</table>\n<p>103 rows × 12 columns</p>\n</div>"
     },
     "metadata": {},
     "execution_count": 71
    }
   ],
   "source": [
    "# show anomaly\n",
    "df[df.Power == 'null']"
   ]
  },
  {
   "cell_type": "code",
   "execution_count": 72,
   "metadata": {},
   "outputs": [],
   "source": [
    "# drop the anomaly\n",
    "df = df[df.Power !='null']"
   ]
  },
  {
   "cell_type": "code",
   "execution_count": 73,
   "metadata": {},
   "outputs": [],
   "source": [
    "# name feature\n",
    "nme = []\n",
    "for i in df.Name:\n",
    "    num = 0\n",
    "    nme.append(i.split(' ')[num])\n",
    "    num = num+1\n",
    "\n",
    "# pass to original dataframe\n",
    "df.Name = nme"
   ]
  },
  {
   "source": [
    "Now, we'll fix the datatype."
   ],
   "cell_type": "markdown",
   "metadata": {}
  },
  {
   "cell_type": "code",
   "execution_count": 74,
   "metadata": {},
   "outputs": [],
   "source": [
    "# fixing datatype\n",
    "for i in df:\n",
    "    if i =='Engine' or i =='Seats':\n",
    "        df[i] = df[i].astype('int64')\n",
    "    elif i =='Mileage' or i =='Power':\n",
    "        df[i] = df[i].astype(float)"
   ]
  },
  {
   "cell_type": "code",
   "execution_count": 75,
   "metadata": {},
   "outputs": [
    {
     "output_type": "stream",
     "name": "stdout",
     "text": [
      "<class 'pandas.core.frame.DataFrame'>\nInt64Index: 5872 entries, 0 to 6018\nData columns (total 12 columns):\n #   Column             Non-Null Count  Dtype  \n---  ------             --------------  -----  \n 0   Name               5872 non-null   object \n 1   Location           5872 non-null   object \n 2   Year               5872 non-null   int64  \n 3   Kilometers_Driven  5872 non-null   int64  \n 4   Fuel_Type          5872 non-null   object \n 5   Transmission       5872 non-null   object \n 6   Owner_Type         5872 non-null   object \n 7   Mileage            5872 non-null   float64\n 8   Engine             5872 non-null   int64  \n 9   Power              5872 non-null   float64\n 10  Seats              5872 non-null   int64  \n 11  Price              5872 non-null   float64\ndtypes: float64(3), int64(4), object(5)\nmemory usage: 596.4+ KB\n"
     ]
    }
   ],
   "source": [
    "# show info on processed data\n",
    "df.info()"
   ]
  },
  {
   "cell_type": "code",
   "execution_count": 76,
   "metadata": {},
   "outputs": [
    {
     "output_type": "execute_result",
     "data": {
      "text/plain": [
       "      Name    Location  Year  Kilometers_Driven Fuel_Type Transmission  \\\n",
       "0   Maruti      Mumbai  2010              72000       CNG       Manual   \n",
       "1  Hyundai        Pune  2015              41000    Diesel       Manual   \n",
       "2    Honda     Chennai  2011              46000    Petrol       Manual   \n",
       "3   Maruti     Chennai  2012              87000    Diesel       Manual   \n",
       "4     Audi  Coimbatore  2013              40670    Diesel    Automatic   \n",
       "\n",
       "  Owner_Type  Mileage  Engine   Power  Seats  Price  \n",
       "0      First    26.60     998   58.16      5   1.75  \n",
       "1      First    19.67    1582  126.20      5  12.50  \n",
       "2      First    18.20    1199   88.70      5   4.50  \n",
       "3      First    20.77    1248   88.76      7   6.00  \n",
       "4     Second    15.20    1968  140.80      5  17.74  "
      ],
      "text/html": "<div>\n<style scoped>\n    .dataframe tbody tr th:only-of-type {\n        vertical-align: middle;\n    }\n\n    .dataframe tbody tr th {\n        vertical-align: top;\n    }\n\n    .dataframe thead th {\n        text-align: right;\n    }\n</style>\n<table border=\"1\" class=\"dataframe\">\n  <thead>\n    <tr style=\"text-align: right;\">\n      <th></th>\n      <th>Name</th>\n      <th>Location</th>\n      <th>Year</th>\n      <th>Kilometers_Driven</th>\n      <th>Fuel_Type</th>\n      <th>Transmission</th>\n      <th>Owner_Type</th>\n      <th>Mileage</th>\n      <th>Engine</th>\n      <th>Power</th>\n      <th>Seats</th>\n      <th>Price</th>\n    </tr>\n  </thead>\n  <tbody>\n    <tr>\n      <th>0</th>\n      <td>Maruti</td>\n      <td>Mumbai</td>\n      <td>2010</td>\n      <td>72000</td>\n      <td>CNG</td>\n      <td>Manual</td>\n      <td>First</td>\n      <td>26.60</td>\n      <td>998</td>\n      <td>58.16</td>\n      <td>5</td>\n      <td>1.75</td>\n    </tr>\n    <tr>\n      <th>1</th>\n      <td>Hyundai</td>\n      <td>Pune</td>\n      <td>2015</td>\n      <td>41000</td>\n      <td>Diesel</td>\n      <td>Manual</td>\n      <td>First</td>\n      <td>19.67</td>\n      <td>1582</td>\n      <td>126.20</td>\n      <td>5</td>\n      <td>12.50</td>\n    </tr>\n    <tr>\n      <th>2</th>\n      <td>Honda</td>\n      <td>Chennai</td>\n      <td>2011</td>\n      <td>46000</td>\n      <td>Petrol</td>\n      <td>Manual</td>\n      <td>First</td>\n      <td>18.20</td>\n      <td>1199</td>\n      <td>88.70</td>\n      <td>5</td>\n      <td>4.50</td>\n    </tr>\n    <tr>\n      <th>3</th>\n      <td>Maruti</td>\n      <td>Chennai</td>\n      <td>2012</td>\n      <td>87000</td>\n      <td>Diesel</td>\n      <td>Manual</td>\n      <td>First</td>\n      <td>20.77</td>\n      <td>1248</td>\n      <td>88.76</td>\n      <td>7</td>\n      <td>6.00</td>\n    </tr>\n    <tr>\n      <th>4</th>\n      <td>Audi</td>\n      <td>Coimbatore</td>\n      <td>2013</td>\n      <td>40670</td>\n      <td>Diesel</td>\n      <td>Automatic</td>\n      <td>Second</td>\n      <td>15.20</td>\n      <td>1968</td>\n      <td>140.80</td>\n      <td>5</td>\n      <td>17.74</td>\n    </tr>\n  </tbody>\n</table>\n</div>"
     },
     "metadata": {},
     "execution_count": 76
    }
   ],
   "source": [
    "# show top 5 processed data\n",
    "df.head()"
   ]
  },
  {
   "source": [
    "I'll pass this processed data to new dataset. And continue to the modelling part."
   ],
   "cell_type": "markdown",
   "metadata": {}
  },
  {
   "cell_type": "code",
   "execution_count": 77,
   "metadata": {},
   "outputs": [],
   "source": [
    "# pass to new dataset\n",
    "df.to_csv('cars_cleaned.csv', index=0)"
   ]
  }
 ]
}